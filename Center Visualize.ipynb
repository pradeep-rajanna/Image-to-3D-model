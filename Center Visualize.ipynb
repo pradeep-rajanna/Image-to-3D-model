{
 "cells": [
  {
   "cell_type": "code",
   "execution_count": null,
   "metadata": {},
   "outputs": [],
   "source": [
    "import numpy as np\n",
    "import tensorflow as tf\n",
    "import binvox_rw\n",
    "import matplotlib.pyplot as plt\n",
    "from pathlib import Path\n",
    "from tensorflow.keras.utils import Sequence\n",
    "from tensorflow.keras.preprocessing.image import ImageDataGenerator\n",
    "from PIL import Image"
   ]
  },
  {
   "cell_type": "code",
   "execution_count": null,
   "metadata": {},
   "outputs": [],
   "source": [
    "def center(voxin):\n",
    "    f = np.squeeze(np.max(voxin, axis=(2, 1)))\n",
    "    s = np.squeeze(np.max(voxin, axis=(2, 0)))\n",
    "    t = np.squeeze(np.max(voxin, axis=(1, 0)))\n",
    "\n",
    "    nzf = np.sum(f == 0) \n",
    "    nzs = np.sum(s == 0)\n",
    "    nzt = np.sum(t == 0)\n",
    "\n",
    "    i_f = np.argmax(f)\n",
    "    l_f = np.sum(f > 0)\n",
    "    i_s = np.argmax(s)\n",
    "    l_s = np.sum(s > 0)\n",
    "    i_t = np.argmax(t)\n",
    "    l_t = np.sum(t > 0)\n",
    "\n",
    "    zfl = np.floor(nzf/2.0).astype(int)\n",
    "    zfr = nzf - zfl\n",
    "    zsl = np.floor(nzs/2.0).astype(int)\n",
    "    zsr = nzs - zsl\n",
    "    ztl = np.floor(nzt/2.0).astype(int)\n",
    "    ztr = nzt - ztl  \n",
    "\n",
    "    voxout = np.zeros_like(voxin)\n",
    "    voxout[zfl:128-zfr, zsl:128-zsr, ztl:128-ztr] = voxin[i_f:i_f+l_f, i_s:i_s+l_s, i_t:i_t+l_t,]\n",
    "    return voxout"
   ]
  },
  {
   "cell_type": "code",
   "execution_count": null,
   "metadata": {},
   "outputs": [],
   "source": [
    "class voxel_gen(Sequence):\n",
    "    def __init__(self, y_set, batch_size=32, dim_image=(512, 512, 3), dim_voxel=(128, 128, 128)):\n",
    "        self.y = y_set # path for each dataset : models/models-binvox-solid\n",
    "        self.batch_size = batch_size\n",
    "        self.dim_voxel = dim_voxel\n",
    "        self.dim_image = dim_image\n",
    "\n",
    "    def __len__(self):\n",
    "        'Denotes the number of batches per epoch'\n",
    "        return int(np.floor(len(self.y) / self.batch_size))\n",
    "\n",
    "    def __getitem__(self, index):\n",
    "        'Generate one batch of data'\n",
    "        # Generate indexes of the batch\n",
    "        y_set_temp = self.y[index*self.batch_size:(index+1)*self.batch_size]\n",
    "        #x_set_temp = self.x[index*self.batch_size:(index+1)*self.batch_size]\n",
    "        X, Y = self.__data_generation(y_set_temp)\n",
    "        return [X, Y]\n",
    "    \n",
    "    def __data_generation(self, y_set_temp):\n",
    "        'Generates data containing batch_size samples' # X : (n_samples, *dim, n_channels)\n",
    "        # Initialization\n",
    "        X0 = np.empty((self.batch_size, *self.dim_image))\n",
    "        X1 = np.empty((self.batch_size, *self.dim_image))\n",
    "        X2 = np.empty((self.batch_size, *self.dim_image))\n",
    "        X3 = np.empty((self.batch_size, *self.dim_image))\n",
    "        Y = np.empty((self.batch_size, *self.dim_voxel, 1))\n",
    "\n",
    "        for i, stem in enumerate(y_set_temp):\n",
    "            view0 = f\"models/models-screenshots/view0/data/{stem}-00.png\"\n",
    "            view1 = f\"models/models-screenshots/view1/data/{stem}-01.png\"\n",
    "            view2 = f\"models/models-screenshots/view2/data/{stem}-02.png\"\n",
    "            view3 = f\"models/models-screenshots/view3/data/{stem}-03.png\"\n",
    "            X0[i,] = np.array(Image.open(view0))[:, :, 0:3] / 255.\n",
    "            X1[i,] = np.array(Image.open(view1))[:, :, 0:3] / 255.\n",
    "            X2[i,] = np.array(Image.open(view2))[:, :, 0:3] / 255.\n",
    "            X3[i,] = np.array(Image.open(view3))[:, :, 0:3] / 255.\n",
    "            vox = f\"models/models-binvox-solid/data/{stem}.binvox\"\n",
    "            with open(str(vox), 'rb') as f:\n",
    "                model = binvox_rw.read_as_3d_array(f)\n",
    "            Y[i,] = np.expand_dims(center(model.data), axis=-1) * 1\n",
    "    \n",
    "        return [[X0, X1, X2, X3], Y]"
   ]
  },
  {
   "cell_type": "code",
   "execution_count": null,
   "metadata": {},
   "outputs": [],
   "source": [
    "def customGen(batch_size=32):\n",
    "    voxels = Path(\"models/models-binvox-solid/data\")\n",
    "    fvoxels = [f.stem for f in voxels.iterdir() if f.is_file()]\n",
    "    out = voxel_gen(fvoxels, batch_size)\n",
    "    while True:\n",
    "        for x, y in out:\n",
    "            yield [x, y]"
   ]
  },
  {
   "cell_type": "code",
   "execution_count": null,
   "metadata": {},
   "outputs": [],
   "source": [
    "gen1 = customGen(1)"
   ]
  },
  {
   "cell_type": "code",
   "execution_count": null,
   "metadata": {},
   "outputs": [],
   "source": [
    "voxels = Path(\"models/models-binvox-solid/data\")\n",
    "fvoxels = [f for f in voxels.iterdir() if f.is_file()]\n",
    "count = -1\n",
    "for X, y in gen1:\n",
    "    count += 1 \n",
    "    if count<1:\n",
    "        print(X[0].shape,X[1].shape,X[2].shape,X[3].shape)\n",
    "        print(fvoxels[count].stem)\n",
    "        print(X[0].dtype)\n",
    "        print(y.dtype)\n",
    "        fig = plt.figure(figsize=(16, 8))\n",
    "        ax1 = plt.subplot2grid((2, 4), (0, 0))\n",
    "        ax2 = plt.subplot2grid((2, 4), (0, 1))\n",
    "        ax3 = plt.subplot2grid((2, 4), (1, 0))\n",
    "        ax4 = plt.subplot2grid((2, 4), (1, 1))\n",
    "        ax5 = plt.subplot2grid((2, 4), (0, 2), colspan=2, rowspan=2, projection='3d')\n",
    "        ax1.imshow(np.squeeze(X[0]))\n",
    "        ax2.imshow(np.squeeze(X[1]))\n",
    "        ax3.imshow(np.squeeze(X[2]))\n",
    "        ax4.imshow(np.squeeze(X[3]))\n",
    "        ax5.voxels(np.squeeze(y))\n",
    "        plt.show()\n",
    "    else:\n",
    "        break"
   ]
  },
  {
   "cell_type": "code",
   "execution_count": null,
   "metadata": {},
   "outputs": [],
   "source": [
    "import skimage.measure\n",
    "from skimage.measure import block_reduce\n",
    "voxels = Path(\"models/models-binvox-solid/data/00001.binvox\")\n",
    "with open(voxels, 'rb') as f:\n",
    "    model = binvox_rw.read_as_3d_array(f)\n",
    "# model.dims \n",
    "#model.data\n",
    "image=(np.array(model.data))*1\n",
    "print(image.shape)\n",
    "#.reshape(model.dims)+0\n",
    "k=skimage.measure.block_reduce(image, (2,2,2), np.max)\n",
    "print(k.shape)"
   ]
  },
  {
   "cell_type": "code",
   "execution_count": null,
   "metadata": {},
   "outputs": [],
   "source": []
  }
 ],
 "metadata": {
  "interpreter": {
   "hash": "35c1233a719995e3a9b7d4155bfefd9de05c00320a7a01da1c537f68f0412cf0"
  },
  "kernelspec": {
   "display_name": "Python 3 (ipykernel)",
   "language": "python",
   "name": "python3"
  },
  "language_info": {
   "codemirror_mode": {
    "name": "ipython",
    "version": 3
   },
   "file_extension": ".py",
   "mimetype": "text/x-python",
   "name": "python",
   "nbconvert_exporter": "python",
   "pygments_lexer": "ipython3",
   "version": "3.10.2"
  }
 },
 "nbformat": 4,
 "nbformat_minor": 2
}
