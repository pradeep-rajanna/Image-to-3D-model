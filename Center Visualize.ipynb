{
 "cells": [
  {
   "cell_type": "code",
   "execution_count": 5,
   "metadata": {},
   "outputs": [],
   "source": [
    "import numpy as np\n",
    "import tensorflow as tf\n",
    "import binvox_rw\n",
    "import matplotlib.pyplot as plt\n",
    "from pathlib import Path\n",
    "from tensorflow.keras.utils import Sequence\n",
    "from tensorflow.keras.preprocessing.image import ImageDataGenerator"
   ]
  },
  {
   "cell_type": "code",
   "execution_count": 2,
   "metadata": {},
   "outputs": [],
   "source": [
    "def center(voxin):\n",
    "    f = np.squeeze(np.max(voxin, axis=(2, 1)))\n",
    "    s = np.squeeze(np.max(voxin, axis=(2, 0)))\n",
    "    t = np.squeeze(np.max(voxin, axis=(1, 0)))\n",
    "\n",
    "    nzf = np.sum(f == 0) \n",
    "    nzs = np.sum(s == 0)\n",
    "    nzt = np.sum(t == 0)\n",
    "\n",
    "    i_f = np.argmax(f)\n",
    "    l_f = np.sum(f > 0)\n",
    "    i_s = np.argmax(s)\n",
    "    l_s = np.sum(s > 0)\n",
    "    i_t = np.argmax(t)\n",
    "    l_t = np.sum(t > 0)\n",
    "\n",
    "    zfl = np.floor(nzf/2.0).astype(int)\n",
    "    zfr = nzf - zfl\n",
    "    zsl = np.floor(nzs/2.0).astype(int)\n",
    "    zsr = nzs - zsl\n",
    "    ztl = np.floor(nzt/2.0).astype(int)\n",
    "    ztr = nzt - ztl  \n",
    "\n",
    "    voxout = np.zeros_like(voxin)\n",
    "    voxout[zfl:128-zfr, zsl:128-zsr, ztl:128-ztr] = voxin[i_f:i_f+l_f, i_s:i_s+l_s, i_t:i_t+l_t,]\n",
    "    return voxout"
   ]
  },
  {
   "cell_type": "code",
   "execution_count": 4,
   "metadata": {},
   "outputs": [],
   "source": [
    "class voxel_gen(Sequence):\n",
    "    def __init__(self, x_set, batch_size=32, dim=(128,128,128)):\n",
    "        self.x = x_set # path for each dataset : models/models-binvox-solid\n",
    "        self.batch_size = batch_size\n",
    "        self.dim = dim\n",
    "\n",
    "    def __len__(self):\n",
    "        'Denotes the number of batches per epoch'\n",
    "        return int(np.floor(len(self.x) / self.batch_size))\n",
    "\n",
    "    def __getitem__(self, index):\n",
    "        'Generate one batch of data'\n",
    "        # Generate indexes of the batch\n",
    "        x_set_temp = self.x[index*self.batch_size:(index+1)*self.batch_size]\n",
    "        X = self.__data_generation(x_set_temp)\n",
    "        return X\n",
    "    \n",
    "    def __data_generation(self, x_set_temp):\n",
    "        'Generates data containing batch_size samples' # X : (n_samples, *dim, n_channels)\n",
    "        # Initialization\n",
    "        X = np.empty((self.batch_size, *self.dim, 1))\n",
    "\n",
    "        for i, x_set in enumerate(x_set_temp):\n",
    "            # Store sample\n",
    "            with open(str(x_set), 'rb') as f:\n",
    "                model = binvox_rw.read_as_3d_array(f)\n",
    "            X[i,] = np.expand_dims(model.data, axis=-1)\n",
    "        return X"
   ]
  },
  {
   "cell_type": "code",
   "execution_count": 6,
   "metadata": {},
   "outputs": [],
   "source": [
    "def customGen(batch_size=32):\n",
    "    gen = ImageDataGenerator(rescale=1/255.)\n",
    "    view0 = gen.flow_from_directory(\n",
    "        \"models/models-screenshots/view0\",\n",
    "        target_size=(512, 512),\n",
    "        shuffle=False,\n",
    "        batch_size=batch_size,\n",
    "        class_mode=None)\n",
    "\n",
    "    view1 = gen.flow_from_directory(\n",
    "        \"models/models-screenshots/view1\",\n",
    "        target_size=(512, 512),\n",
    "        shuffle=False,\n",
    "        batch_size=batch_size,\n",
    "        class_mode=None)\n",
    "\n",
    "    view2 = gen.flow_from_directory(\n",
    "        \"models/models-screenshots/view2\",\n",
    "        target_size=(512, 512),\n",
    "        shuffle=False,\n",
    "        batch_size=batch_size,\n",
    "        class_mode=None)\n",
    "\n",
    "    view3 = gen.flow_from_directory(\n",
    "        \"models/models-screenshots/view3\",\n",
    "        target_size=(512, 512),\n",
    "        shuffle=False,\n",
    "        batch_size=batch_size,\n",
    "        class_mode=None)\n",
    "    \n",
    "    voxels = Path(\"models/models-binvox-solid/data\")\n",
    "    fvoxels = [f for f in voxels.iterdir() if f.is_file()]\n",
    "    \n",
    "    out = voxel_gen(fvoxels, batch_size)\n",
    "    while True:\n",
    "        for x1, x2, x3, x4, y in zip(view0, view1, view2, view3, out):\n",
    "            yield [x1,x2,x3,x4], y"
   ]
  },
  {
   "cell_type": "code",
   "execution_count": 7,
   "metadata": {},
   "outputs": [],
   "source": [
    "gen1 = customGen(1)"
   ]
  },
  {
   "cell_type": "code",
   "execution_count": null,
   "metadata": {},
   "outputs": [],
   "source": [
    "voxels = Path(\"models/models-binvox-solid/data\")\n",
    "fvoxels = [f for f in voxels.iterdir() if f.is_file()]\n",
    "count = -1\n",
    "for X, y in gen1:\n",
    "    count += 1\n",
    "    if count<11694:\n",
    "        print(fvoxels[count].stem)\n",
    "        fig = plt.figure(figsize=(16, 8))\n",
    "        ax1 = plt.subplot2grid((2, 4), (0, 0))\n",
    "        ax2 = plt.subplot2grid((2, 4), (0, 1))\n",
    "        ax3 = plt.subplot2grid((2, 4), (1, 0))\n",
    "        ax4 = plt.subplot2grid((2, 4), (1, 1))\n",
    "        ax5 = plt.subplot2grid((2, 4), (0, 2), colspan=2, rowspan=2, projection='3d')\n",
    "        y = center(np.squeeze(y))\n",
    "        ax1.imshow(np.squeeze(X[0]))\n",
    "        ax2.imshow(np.squeeze(X[1]))\n",
    "        ax3.imshow(np.squeeze(X[2]))\n",
    "        ax4.imshow(np.squeeze(X[3]))\n",
    "        ax5.voxels(np.squeeze(y))\n",
    "        plt.show()\n",
    "    else:\n",
    "        break"
   ]
  }
 ],
 "metadata": {
  "interpreter": {
   "hash": "35c1233a719995e3a9b7d4155bfefd9de05c00320a7a01da1c537f68f0412cf0"
  },
  "kernelspec": {
   "display_name": "Python 3.10.2 64-bit",
   "language": "python",
   "name": "python3"
  },
  "language_info": {
   "codemirror_mode": {
    "name": "ipython",
    "version": 3
   },
   "file_extension": ".py",
   "mimetype": "text/x-python",
   "name": "python",
   "nbconvert_exporter": "python",
   "pygments_lexer": "ipython3",
   "version": "3.10.2"
  },
  "orig_nbformat": 4
 },
 "nbformat": 4,
 "nbformat_minor": 2
}
