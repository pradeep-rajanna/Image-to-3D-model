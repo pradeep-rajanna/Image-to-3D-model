{
 "cells": [
  {
   "cell_type": "code",
   "execution_count": null,
   "metadata": {},
   "outputs": [],
   "source": [
    "import numpy as np\n",
    "import tensorflow as tf\n",
    "import io\n",
    "import binvox_rw\n",
    "import cv2\n",
    "import matplotlib.pyplot as plt\n",
    "from pathlib import Path\n",
    "from tensorflow.keras.preprocessing.image import ImageDataGenerator\n",
    "from tensorflow.keras.utils import Sequence"
   ]
  },
  {
   "cell_type": "code",
   "execution_count": null,
   "metadata": {},
   "outputs": [],
   "source": [
    "voxels = Path(\"models/models-binvox-solid/data\")\n",
    "fvoxels = [f for f in voxels.iterdir() if f.is_file()]"
   ]
  },
  {
   "cell_type": "code",
   "execution_count": null,
   "metadata": {},
   "outputs": [],
   "source": [
    "gen = ImageDataGenerator(rescale=1/255.)\n",
    "view0 = gen.flow_from_directory(\n",
    "    \"models/models-screenshots/view0\",\n",
    "    target_size=(512, 512),\n",
    "    seed=1,\n",
    "    class_mode=None)\n",
    "\n",
    "view1 = gen.flow_from_directory(\n",
    "    \"models/models-screenshots/view1\",\n",
    "    target_size=(512, 512),\n",
    "    seed=1,\n",
    "    class_mode=None)\n",
    "\n",
    "view2 = gen.flow_from_directory(\n",
    "    \"models/models-screenshots/view2\",\n",
    "    target_size=(512, 512),\n",
    "    seed=1,\n",
    "    class_mode=None)\n",
    "\n",
    "view3 = gen.flow_from_directory(\n",
    "    \"models/models-screenshots/view3\",\n",
    "    target_size=(512, 512),\n",
    "    seed=1,\n",
    "    class_mode=None)"
   ]
  },
  {
   "cell_type": "code",
   "execution_count": null,
   "metadata": {},
   "outputs": [],
   "source": [
    "class voxel_gen(Sequence):\n",
    "    def __init__(self, x_set, batch_size=32, dim=(128,128,128)):\n",
    "        self.x = x_set # path for each dataset : models/models-binvox-solid\n",
    "        #self.y = y_set\n",
    "        self.batch_size = batch_size\n",
    "        self.dim = dim\n",
    "\n",
    "    def __len__(self):\n",
    "        'Denotes the number of batches per epoch'\n",
    "        return int(np.floor(len(self.x) / self.batch_size))\n",
    "\n",
    "    def __getitem__(self, index):\n",
    "        'Generate one batch of data'\n",
    "        # Generate indexes of the batch\n",
    "        x_set_temp = self.x[index*self.batch_size:(index+1)*self.batch_size]\n",
    "\n",
    "        # Find list of IDs\n",
    "        #x_set_temp = [self.x[k] for k in indexes]\n",
    "\n",
    "        # Generate data\n",
    "        X, y = self.__data_generation(x_set_temp)\n",
    "\n",
    "        return X, y\n",
    "    \n",
    "    def __data_generation(self, x_set_temp):\n",
    "        'Generates data containing batch_size samples' # X : (n_samples, *dim, n_channels)\n",
    "        # Initialization\n",
    "        X = np.empty((self.batch_size, *self.dim, 1))\n",
    "        #y = np.empty((self.batch_size), dtype=int)\n",
    "        \n",
    "\n",
    "        # Generate data\n",
    "        for i, x_set in enumerate(x_set_temp):\n",
    "            # Store sample\n",
    "            with open(str(x_set), 'rb') as f:\n",
    "                model = binvox_rw.read_as_3d_array(f)\n",
    "            X[i,] = np.expand_dims(model.data, axis=-1)\n",
    "\n",
    "            # Store class\n",
    "            #y[i] = self.labels[ID]\n",
    "\n",
    "        return X, None"
   ]
  },
  {
   "cell_type": "code",
   "execution_count": null,
   "metadata": {},
   "outputs": [],
   "source": [
    "out = voxel_gen(fvoxels)"
   ]
  },
  {
   "cell_type": "code",
   "execution_count": null,
   "metadata": {},
   "outputs": [],
   "source": [
    "def customGen(gen1,gen2,gen3,gen4,gen5):\n",
    "    while True:\n",
    "        for (x1,y1),(x2,y2),(x3,y3),(x4,y4),(x5,y5) in zip(gen1,gen2,gen3,gen4,gen5):\n",
    "            yield ([x1,x2,x3,x4],x5)"
   ]
  }
 ],
 "metadata": {
  "kernelspec": {
   "display_name": "Python 3",
   "language": "python",
   "name": "python3"
  },
  "language_info": {
   "codemirror_mode": {
    "name": "ipython",
    "version": 3
   },
   "file_extension": ".py",
   "mimetype": "text/x-python",
   "name": "python",
   "nbconvert_exporter": "python",
   "pygments_lexer": "ipython3",
   "version": "3.8.10"
  }
 },
 "nbformat": 4,
 "nbformat_minor": 4
}
